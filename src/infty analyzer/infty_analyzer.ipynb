{
 "cells": [
  {
   "cell_type": "code",
   "execution_count": 49,
   "metadata": {},
   "outputs": [],
   "source": [
    "import pandas\n",
    "import numpy as np\n",
    "\n",
    "from __future__ import print_function\n",
    "from ipywidgets import interact, interactive, fixed, interact_manual, Layout, IntSlider\n",
    "import ipywidgets as widgets\n",
    "\n",
    "import matplotlib.pyplot as plt\n",
    "import scipy.stats as stats\n",
    "\n",
    "def make_table(log):\n",
    "    shuffles = sorted(log.shuffles.unique())\n",
    "    data = [log.loc[log['shuffles'] == shuffle].value.to_numpy() for shuffle in shuffles]\n",
    "    \n",
    "    return np.array(shuffles), np.array(data)\n",
    "\n",
    "def prepare_log(path):\n",
    "    log = pandas.read_csv(path, header=None)\n",
    "    log.head()\n",
    "\n",
    "    log = log[log[1].str.contains('infty')]\n",
    "    log[[\"type\", \"value\"]] = log[1].str.split(expand=True)\n",
    "    log[[\"type\", \"shuffles\"]] = log[\"type\"].str.split('on', expand=True)\n",
    "    log[\"value\"] = pandas.to_numeric(log[\"value\"])\n",
    "    log[\"shuffles\"] = pandas.to_numeric(log[\"shuffles\"])\n",
    "    log = log[[\"type\", \"shuffles\", \"value\"]]\n",
    "\n",
    "    simple_infty = log.loc[log['type'] == 'infty']\n",
    "    ultimate_infty = log.loc[log['type'] == 'ultimateinfty']\n",
    "    \n",
    "    return make_table(simple_infty), make_table(ultimate_infty)\n",
    "\n",
    "def time_dashboard(paths, ultimate=False):\n",
    "    logs = [prepare_log(path)[1 if ultimate else 0] for path in paths]\n",
    "    \n",
    "    miny, maxy = None, None\n",
    "    for (x, y) in logs:\n",
    "        miny = np.min(y) if miny is None else min(miny, np.min(y))\n",
    "        maxy = np.max(y) if maxy is None else max(maxy, np.max(y))\n",
    "    \n",
    "    def plotter(time_point):\n",
    "        plt.title('Time: {0}'.format(time_point))\n",
    "        \n",
    "        for (x, y) in logs:\n",
    "            if y.shape[1] > time_point:\n",
    "                plt.plot(x, y[:,time_point])\n",
    "            else:\n",
    "                plt.plot([], [])\n",
    "        \n",
    "        plt.xlabel('shuffles', fontsize=15)\n",
    "        plt.ylabel('infty', fontsize=15)\n",
    "        plt.ylim((miny - 1, maxy + 1))\n",
    "        plt.grid(b=True, color='DarkTurquoise', alpha=0.2, linestyle=':', linewidth=2)\n",
    "        plt.rcParams['figure.figsize'] = [16, 8]\n",
    "        plt.legend(paths)\n",
    "        plt.show()\n",
    "\n",
    "    lengths = [log[1].shape[1]-1 for log in logs]\n",
    "    interact(plotter, time_point=widgets.IntSlider(min=0, max=max(lengths), step=1, value=0,\n",
    "                                                   layout=Layout(width='100%')))\n",
    "\n",
    "def shuffles_dashboard(paths, ultimate=False):\n",
    "    logs = [prepare_log(path)[1 if ultimate else 0] for path in paths]\n",
    "    \n",
    "    shuffles_list = []\n",
    "    for (x, y) in logs:\n",
    "        shuffles_list.extend(x)\n",
    "    shuffles_list = sorted(list(set(shuffles_list)))\n",
    "    \n",
    "    miny, maxy = None, None\n",
    "    for (x, y) in logs:\n",
    "        miny = np.min(y) if miny is None else min(miny, np.min(y))\n",
    "        maxy = np.max(y) if maxy is None else max(maxy, np.max(y))\n",
    "    \n",
    "    def plotter(shuffles_idx):\n",
    "        shuffles = shuffles_list[shuffles_idx]\n",
    "        plt.title('Shuffles: {0}'.format(shuffles))\n",
    "        \n",
    "        for (x, y) in logs:\n",
    "            if shuffles in x:\n",
    "                idx = np.where(x == shuffles)[0][0]\n",
    "                plt.plot(np.arange(y.shape[1]), y[idx,:])\n",
    "            else:\n",
    "                plt.plot([], [])\n",
    "        \n",
    "        plt.xlabel('time', fontsize=15)\n",
    "        plt.ylabel('infty', fontsize=15)\n",
    "        plt.ylim((miny - 1, maxy + 1))\n",
    "        plt.grid(b=True, color='DarkTurquoise', alpha=0.2, linestyle=':', linewidth=2)\n",
    "        plt.rcParams['figure.figsize'] = [16, 8]\n",
    "        plt.legend(paths)\n",
    "        plt.show()\n",
    "\n",
    "    interact(plotter, shuffles_idx=widgets.IntSlider(min=0, max=len(shuffles_list)-1, step=1, value=0,\n",
    "                                                 layout=Layout(width='100%')))"
   ]
  },
  {
   "cell_type": "code",
   "execution_count": 55,
   "metadata": {},
   "outputs": [],
   "source": [
    "paths = ['log_279.csv', 'log_280.csv', 'log_281.csv', 'log_282.csv',\n",
    "         'log_283.csv', 'log_284.csv', 'log_285.csv']"
   ]
  },
  {
   "cell_type": "markdown",
   "metadata": {},
   "source": [
    "# Wykresy"
   ]
  },
  {
   "cell_type": "markdown",
   "metadata": {},
   "source": [
    "Dla ustalonego punktu w czasie."
   ]
  },
  {
   "cell_type": "code",
   "execution_count": 56,
   "metadata": {},
   "outputs": [
    {
     "data": {
      "application/vnd.jupyter.widget-view+json": {
       "model_id": "4a743c9bed94494db971dec09dcad60d",
       "version_major": 2,
       "version_minor": 0
      },
      "text/plain": [
       "interactive(children=(IntSlider(value=0, description='time_point', layout=Layout(width='100%'), max=172), Outp…"
      ]
     },
     "metadata": {},
     "output_type": "display_data"
    }
   ],
   "source": [
    "time_dashboard(paths)"
   ]
  },
  {
   "cell_type": "code",
   "execution_count": 52,
   "metadata": {},
   "outputs": [
    {
     "data": {
      "application/vnd.jupyter.widget-view+json": {
       "model_id": "40b33ad6472d4125b1ae78597652d5c6",
       "version_major": 2,
       "version_minor": 0
      },
      "text/plain": [
       "interactive(children=(IntSlider(value=0, description='time_point', layout=Layout(width='100%'), max=172), Outp…"
      ]
     },
     "metadata": {},
     "output_type": "display_data"
    }
   ],
   "source": [
    "time_dashboard(paths, ultimate=True)"
   ]
  },
  {
   "cell_type": "markdown",
   "metadata": {},
   "source": [
    "Dla ustalonej liczby tasowań."
   ]
  },
  {
   "cell_type": "code",
   "execution_count": 57,
   "metadata": {},
   "outputs": [
    {
     "data": {
      "application/vnd.jupyter.widget-view+json": {
       "model_id": "8567afc237934169b92485ef699728ce",
       "version_major": 2,
       "version_minor": 0
      },
      "text/plain": [
       "interactive(children=(IntSlider(value=0, description='shuffles_idx', layout=Layout(width='100%'), max=7), Outp…"
      ]
     },
     "metadata": {},
     "output_type": "display_data"
    }
   ],
   "source": [
    "shuffles_dashboard(paths)"
   ]
  },
  {
   "cell_type": "code",
   "execution_count": 54,
   "metadata": {},
   "outputs": [
    {
     "data": {
      "application/vnd.jupyter.widget-view+json": {
       "model_id": "c8cc94c59b6c41b58909fa4c02fba1cb",
       "version_major": 2,
       "version_minor": 0
      },
      "text/plain": [
       "interactive(children=(IntSlider(value=0, description='shuffles_idx', layout=Layout(width='100%'), max=1), Outp…"
      ]
     },
     "metadata": {},
     "output_type": "display_data"
    }
   ],
   "source": [
    "shuffles_dashboard(paths, ultimate=True)"
   ]
  },
  {
   "cell_type": "code",
   "execution_count": null,
   "metadata": {},
   "outputs": [],
   "source": []
  },
  {
   "cell_type": "code",
   "execution_count": null,
   "metadata": {},
   "outputs": [],
   "source": []
  }
 ],
 "metadata": {
  "kernelspec": {
   "display_name": "Python 3",
   "language": "python",
   "name": "python3"
  },
  "language_info": {
   "codemirror_mode": {
    "name": "ipython",
    "version": 3
   },
   "file_extension": ".py",
   "mimetype": "text/x-python",
   "name": "python",
   "nbconvert_exporter": "python",
   "pygments_lexer": "ipython3",
   "version": "3.5.2"
  }
 },
 "nbformat": 4,
 "nbformat_minor": 2
}
