{
 "cells": [
  {
   "cell_type": "code",
   "execution_count": 17,
   "metadata": {},
   "outputs": [],
   "source": [
    "import pandas\n",
    "import numpy as np\n",
    "\n",
    "log = pandas.read_csv('log_284.csv', header=None)\n",
    "log.head()\n",
    "\n",
    "#skip = max(log[log[1].str.contains('Total bytes of variables:')].index) + 1\n",
    "#log.drop(np.arange(skip))\n",
    "\n",
    "log = log[log[1].str.contains('infty')]\n",
    "log[[\"type\", \"value\"]] = log[1].str.split(expand=True)\n",
    "log[[\"type\", \"shuffles\"]] = log[\"type\"].str.split('on', expand=True)\n",
    "log[\"value\"] = pandas.to_numeric(log[\"value\"])\n",
    "log[\"shuffles\"] = pandas.to_numeric(log[\"shuffles\"])\n",
    "log = log[[\"type\", \"shuffles\", \"value\"]]\n",
    "\n",
    "simple_infty = log.loc[log['type'] == 'infty']\n",
    "ultimate_infty = log.loc[log['type'] == 'ultimateinfty']\n",
    "\n",
    "def make_table(log):\n",
    "    shuffles = sorted(log.shuffles.unique())\n",
    "    data = [log.loc[log['shuffles'] == shuffle].value.to_numpy() for shuffle in shuffles]\n",
    "    \n",
    "    return np.array(shuffles), np.array(data)"
   ]
  },
  {
   "cell_type": "code",
   "execution_count": 18,
   "metadata": {},
   "outputs": [],
   "source": [
    "from __future__ import print_function\n",
    "from ipywidgets import interact, interactive, fixed, interact_manual, Layout, IntSlider\n",
    "import ipywidgets as widgets\n",
    "\n",
    "import numpy as np\n",
    "import matplotlib.pyplot as plt\n",
    "import scipy.stats as stats\n",
    "\n",
    "\n",
    "def time_dashboard(log):\n",
    "    x, y = make_table(log)\n",
    "    \n",
    "    def plotter(time_point):\n",
    "        plt.title('Time: {0}'.format(time_point))\n",
    "        plt.plot(x, y[:,time_point])\n",
    "        plt.xlabel('shuffles', fontsize=15)\n",
    "        plt.ylabel('infty', fontsize=15)\n",
    "        plt.ylim((np.min(y)-1, np.max(y)+1))\n",
    "        plt.grid(b=True, color='DarkTurquoise', alpha=0.2, linestyle=':', linewidth=2)\n",
    "        plt.rcParams['figure.figsize'] = [16, 8]\n",
    "        plt.legend()\n",
    "        plt.show()\n",
    "\n",
    "    interact(plotter, time_point=widgets.IntSlider(min=0, max=y.shape[1]-1, step=1, value=0, layout=Layout(width='100%')))"
   ]
  },
  {
   "cell_type": "code",
   "execution_count": 19,
   "metadata": {},
   "outputs": [],
   "source": [
    "from __future__ import print_function\n",
    "from ipywidgets import interact, interactive, fixed, interact_manual, Layout, IntSlider\n",
    "import ipywidgets as widgets\n",
    "\n",
    "import numpy as np\n",
    "import matplotlib.pyplot as plt\n",
    "import scipy.stats as stats\n",
    "\n",
    "\n",
    "def shuffles_dashboard(log):\n",
    "    x, y = make_table(log)\n",
    "    \n",
    "    def plotter(shuffles):\n",
    "        plt.title('Shuffles: {0}'.format(x[shuffles]))\n",
    "        plt.plot(np.arange(y.shape[1]), y[shuffles,:])\n",
    "        plt.xlabel('time', fontsize=15)\n",
    "        plt.ylabel('infty', fontsize=15)\n",
    "        plt.ylim((np.min(y)-1, np.max(y)+1))\n",
    "        plt.grid(b=True, color='DarkTurquoise', alpha=0.2, linestyle=':', linewidth=2)\n",
    "        plt.rcParams['figure.figsize'] = [16, 8]\n",
    "        plt.legend()\n",
    "        plt.show()\n",
    "\n",
    "    interact(plotter, shuffles=widgets.IntSlider(min=0, max=y.shape[0]-1, step=1, value=0, layout=Layout(width='100%')))"
   ]
  },
  {
   "cell_type": "markdown",
   "metadata": {},
   "source": [
    "# Wykresy"
   ]
  },
  {
   "cell_type": "markdown",
   "metadata": {},
   "source": [
    "Dla ustalonego punktu w czasie."
   ]
  },
  {
   "cell_type": "code",
   "execution_count": 20,
   "metadata": {},
   "outputs": [
    {
     "data": {
      "application/vnd.jupyter.widget-view+json": {
       "model_id": "c9860a9f8d3548a2906a327f5ad5bc88",
       "version_major": 2,
       "version_minor": 0
      },
      "text/plain": [
       "interactive(children=(IntSlider(value=0, description='time_point', layout=Layout(width='100%'), max=166), Outp…"
      ]
     },
     "metadata": {},
     "output_type": "display_data"
    }
   ],
   "source": [
    "time_dashboard(simple_infty)"
   ]
  },
  {
   "cell_type": "code",
   "execution_count": 6,
   "metadata": {},
   "outputs": [
    {
     "data": {
      "application/vnd.jupyter.widget-view+json": {
       "model_id": "4e81799ed32949b78f2d700405df8aee",
       "version_major": 2,
       "version_minor": 0
      },
      "text/plain": [
       "interactive(children=(IntSlider(value=0, description='time_point', layout=Layout(width='100%'), max=452), Outp…"
      ]
     },
     "metadata": {},
     "output_type": "display_data"
    }
   ],
   "source": [
    "time_dashboard(ultimate_infty)"
   ]
  },
  {
   "cell_type": "markdown",
   "metadata": {},
   "source": [
    "Dla ustalonej liczby tasowań."
   ]
  },
  {
   "cell_type": "code",
   "execution_count": 21,
   "metadata": {},
   "outputs": [
    {
     "data": {
      "application/vnd.jupyter.widget-view+json": {
       "model_id": "3e95c2bf12c443579ba334c02fd98c48",
       "version_major": 2,
       "version_minor": 0
      },
      "text/plain": [
       "interactive(children=(IntSlider(value=0, description='shuffles', layout=Layout(width='100%'), max=7), Output()…"
      ]
     },
     "metadata": {},
     "output_type": "display_data"
    }
   ],
   "source": [
    "shuffles_dashboard(simple_infty)"
   ]
  },
  {
   "cell_type": "code",
   "execution_count": 8,
   "metadata": {},
   "outputs": [
    {
     "data": {
      "application/vnd.jupyter.widget-view+json": {
       "model_id": "54477a521b13421b8c06797ec5cc56c5",
       "version_major": 2,
       "version_minor": 0
      },
      "text/plain": [
       "interactive(children=(IntSlider(value=0, description='shuffles', layout=Layout(width='100%'), max=10), Output(…"
      ]
     },
     "metadata": {},
     "output_type": "display_data"
    }
   ],
   "source": [
    "shuffles_dashboard(ultimate_infty)"
   ]
  },
  {
   "cell_type": "code",
   "execution_count": null,
   "metadata": {},
   "outputs": [],
   "source": []
  },
  {
   "cell_type": "code",
   "execution_count": null,
   "metadata": {},
   "outputs": [],
   "source": []
  }
 ],
 "metadata": {
  "kernelspec": {
   "display_name": "Python 3",
   "language": "python",
   "name": "python3"
  },
  "language_info": {
   "codemirror_mode": {
    "name": "ipython",
    "version": 3
   },
   "file_extension": ".py",
   "mimetype": "text/x-python",
   "name": "python",
   "nbconvert_exporter": "python",
   "pygments_lexer": "ipython3",
   "version": "3.5.2"
  }
 },
 "nbformat": 4,
 "nbformat_minor": 2
}
